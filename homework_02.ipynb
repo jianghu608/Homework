{
 "cells": [
  {
   "cell_type": "code",
   "execution_count": 1,
   "id": "170376bd",
   "metadata": {},
   "outputs": [
    {
     "name": "stdout",
     "output_type": "stream",
     "text": [
      "11月的月份简写是Nov\n"
     ]
    }
   ],
   "source": [
    "# 方法1 列表索引\n",
    "user_month = int(input(\"请输入月份：\"))\n",
    "month = ['Jan','Feb','Mar','Apr','May','Jun','Jul','Aug','Sep','Oct','Nov','Dec']\n",
    "simplized = month[user_month - 1]\n",
    "\n",
    "print(f\"{user_month}月的月份简写是{simplized}\")\n"
   ]
  },
  {
   "cell_type": "code",
   "execution_count": null,
   "id": "c678fdb6",
   "metadata": {},
   "outputs": [
    {
     "name": "stdout",
     "output_type": "stream",
     "text": [
      "4月的月份简写是Apr\n"
     ]
    }
   ],
   "source": [
    "# 方法2 字符串切片\n",
    "user_month = int(input(\"请输入月份：\"))\n",
    "month = 'JanFebMarAprMayJunJulAugSepOctNovDec'\n",
    "simplized = month[user_month * 3 - 3: user_month * 3]\n",
    "\n",
    "print(f\"{user_month}月的月份简写是{simplized}\")\n"
   ]
  },
  {
   "cell_type": "code",
   "execution_count": null,
   "id": "bde2276f",
   "metadata": {},
   "outputs": [],
   "source": []
  }
 ],
 "metadata": {
  "kernelspec": {
   "display_name": "demo_01",
   "language": "python",
   "name": "python3"
  },
  "language_info": {
   "codemirror_mode": {
    "name": "ipython",
    "version": 3
   },
   "file_extension": ".py",
   "mimetype": "text/x-python",
   "name": "python",
   "nbconvert_exporter": "python",
   "pygments_lexer": "ipython3",
   "version": "3.13.7"
  }
 },
 "nbformat": 4,
 "nbformat_minor": 5
}
