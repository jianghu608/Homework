{
 "cells": [
  {
   "cell_type": "code",
   "execution_count": null,
   "id": "45f96ca8",
   "metadata": {},
   "outputs": [],
   "source": [
    "# 第一题\n",
    "number_list = [34, 5, 89, 3, 32, 122]\n",
    "print(number_list)\n",
    "\n",
    "average_1 = 0\n",
    "for i in number_list:\n",
    "    average_1 += i\n",
    "average_1 /= len(number_list)\n",
    "print(format(average_1, '.3f'))\n",
    "\n",
    "average_2 = (number_list[0] + number_list[1] + number_list[2] + number_list[3] + number_list[4] + number_list[5]) / len(number_list)\n",
    "print(format(average_2, '.3f'))\n",
    "\n",
    "average_3 = 0\n",
    "i = 0\n",
    "while i < len(number_list):\n",
    "    average_3 += number_list[i]\n",
    "    i += 1\n",
    "average_3 /= len(number_list)\n",
    "print(average_3)\n"
   ]
  },
  {
   "cell_type": "code",
   "execution_count": null,
   "id": "873ccb4d",
   "metadata": {},
   "outputs": [],
   "source": [
    "# 第二题\n",
    "letter = input(\"请输入三个字符用逗号分隔, x,y,z= \").split(',')\n",
    "x, y, z = letter[0], letter[1], letter[2]\n",
    "max_letter = max(letter)\n",
    "print(f'{x},{y},{z}中最大的字符是 {max_letter}')\n"
   ]
  },
  {
   "cell_type": "code",
   "execution_count": null,
   "id": "32993787",
   "metadata": {},
   "outputs": [],
   "source": [
    "# 第三题\n",
    "import math\n",
    "\n",
    "spot_1 = input(\"以 x1,y1 的形式输入点1：\").split(',')\n",
    "spot_2 = input(\"以 x2,y2 的形式输入点2：\").split(',')\n",
    "\n",
    "x1 = float(spot_1[0])\n",
    "y1 = float(spot_1[1])\n",
    "x2 = float(spot_2[0])\n",
    "y2 = float(spot_2[1])\n",
    "\n",
    "distance = math.sqrt((x2 - x1) ** 2 + (y2 - y1) ** 2)\n",
    "print(format(distance, '.2f'))\n"
   ]
  }
 ],
 "metadata": {
  "language_info": {
   "name": "python"
  }
 },
 "nbformat": 4,
 "nbformat_minor": 5
}
